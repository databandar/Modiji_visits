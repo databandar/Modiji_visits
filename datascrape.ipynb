{
 "cells": [
  {
   "cell_type": "code",
   "execution_count": 87,
   "id": "943dc9d7",
   "metadata": {},
   "outputs": [],
   "source": [
    "import pandas as pd"
   ]
  },
  {
   "cell_type": "code",
   "execution_count": 88,
   "id": "49ee2306",
   "metadata": {},
   "outputs": [
    {
     "name": "stdout",
     "output_type": "stream",
     "text": [
      "  sno                                     place_of_visit  \\\n",
      "0   1                          United Kingdom & Maldives   \n",
      "1   2  Ghana, Trinidad & Tobago, Argentina, Brazil & ...   \n",
      "2   3                         Cyprus, Canada and Croatia   \n",
      "3   4                                       Saudi Arabia   \n",
      "4   5                               Thailand & Sri Lanka   \n",
      "\n",
      "                period_of_visit  \n",
      "0       23 July – 26 July, 2025  \n",
      "1       02 July – 09 July, 2025  \n",
      "2       15 June – 19 June, 2025  \n",
      "3  22 April 2025 -22 April 2025  \n",
      "4    3 April 2025 -6 April 2025  \n"
     ]
    }
   ],
   "source": [
    "import requests\n",
    "from bs4 import BeautifulSoup\n",
    "import pandas as pd\n",
    "\n",
    "# URL to scrape\n",
    "url = \"https://www.pmindia.gov.in/en/details-of-foreigndomestic-visits/\"\n",
    "response = requests.get(url)\n",
    "response.raise_for_status()\n",
    "\n",
    "# Parse the HTML\n",
    "soup = BeautifulSoup(response.text, \"html.parser\")\n",
    "table = soup.find(\"table\", class_=\"pms-list\")\n",
    "\n",
    "# Extract rows\n",
    "rows = table.find_all(\"tr\")\n",
    "data = []\n",
    "\n",
    "for tr in rows:\n",
    "    cols = tr.find_all(\"td\")\n",
    "    if len(cols) >= 3:\n",
    "        row = [td.get_text(strip=True) for td in cols[:3]]\n",
    "        data.append(row)\n",
    "\n",
    "# Create DataFrame\n",
    "df = pd.DataFrame(data, columns=[\"sno\", \"place_of_visit\", \"period_of_visit\"])\n",
    "print(df.head())  # Show first few rows\n"
   ]
  },
  {
   "cell_type": "code",
   "execution_count": 89,
   "id": "8e898db8",
   "metadata": {},
   "outputs": [
    {
     "data": {
      "text/plain": [
       "Index(['sno', 'place_of_visit', 'period_of_visit'], dtype='object')"
      ]
     },
     "execution_count": 89,
     "metadata": {},
     "output_type": "execute_result"
    }
   ],
   "source": [
    "df.columns"
   ]
  },
  {
   "cell_type": "code",
   "execution_count": 90,
   "id": "4cda37a8",
   "metadata": {},
   "outputs": [
    {
     "name": "stdout",
     "output_type": "stream",
     "text": [
      "  sno place_of_visit                     period_of_visit      expenses\n",
      "0   1         Brazil      13 November- 15 November, 2019  20,01,61,000\n",
      "1   2       Thailand      02 November- 04 November, 2019   6,68,34,000\n",
      "2   3   Saudi Arabia       28 October – 29 October, 2019   5,03,03,000\n",
      "3   4            USA  21 September – 28 September , 2019  23,27,09,000\n",
      "4   5         Russia  04 September – 05 September , 2019  12,02,80,000\n"
     ]
    }
   ],
   "source": [
    "import requests\n",
    "from bs4 import BeautifulSoup\n",
    "import pandas as pd\n",
    "\n",
    "url = \"https://www.pmindia.gov.in/en/previous-foreign-visits/\"\n",
    "response = requests.get(url)\n",
    "response.raise_for_status()\n",
    "\n",
    "soup = BeautifulSoup(response.text, \"html.parser\")\n",
    "table = soup.find(\"table\", class_=\"pms-list\")\n",
    "\n",
    "data = []\n",
    "for tr in table.find_all(\"tr\"):\n",
    "    cols = tr.find_all(\"td\")\n",
    "    if len(cols) >= 4:\n",
    "        row = [td.get_text(strip=True) for td in cols[:4]]\n",
    "        data.append(row)\n",
    "\n",
    "df_prev = pd.DataFrame(data, columns=[\"sno\", \"place_of_visit\", \"period_of_visit\", \"expenses\"])\n",
    "print(df_prev.head())\n"
   ]
  },
  {
   "cell_type": "code",
   "execution_count": 91,
   "id": "d19a13e1",
   "metadata": {},
   "outputs": [
    {
     "data": {
      "text/plain": [
       "Index(['sno', 'place_of_visit', 'period_of_visit', 'expenses'], dtype='object')"
      ]
     },
     "execution_count": 91,
     "metadata": {},
     "output_type": "execute_result"
    }
   ],
   "source": [
    "df_prev.columns"
   ]
  },
  {
   "cell_type": "code",
   "execution_count": 92,
   "id": "4e7762c3",
   "metadata": {},
   "outputs": [],
   "source": [
    "import pandas as pd\n",
    "import numpy as np\n",
    "import re\n",
    "\n",
    "# Add 'expenses' column to df if missing\n",
    "df['expenses'] = np.nan\n",
    "\n",
    "# Concatenate both dataframes\n",
    "df_combined = pd.concat([df, df_prev], ignore_index=True)\n",
    "\n",
    "# List of known compound countries that contain '&' or 'and'\n",
    "compound_countries = {\n",
    "    'Trinidad & Tobago': '__TRINIDAD_TOBAGO__',\n",
    "    'Bosnia & Herzegovina': '__BOSNIA_HERZEGOVINA__',\n",
    "    'Antigua & Barbuda': '__ANTIGUA_BARBUDA__',\n",
    "    'Saint Kitts & Nevis': '__SAINT_KITTS_NEVIS__',\n",
    "    'Saint Vincent & The Grenadines': '__SAINT_VINCENT_GRENADINES__',\n",
    "    'São Tomé & Príncipe': '__SAO_TOME_PRINCIPE__'\n",
    "}\n",
    "\n",
    "# Reverse mapping\n",
    "reverse_map = {v: k for k, v in compound_countries.items()}\n",
    "\n",
    "# Cleaning and splitting function\n",
    "def clean_and_split_places(place):\n",
    "    if pd.isnull(place):\n",
    "        return []\n",
    "\n",
    "    # Step 1: Lowercase\n",
    "    place = place.lower()\n",
    "\n",
    "    # Step 2: Replace known compound names with placeholders\n",
    "    for name, placeholder in compound_countries.items():\n",
    "        pattern = re.escape(name.lower())\n",
    "        place = re.sub(pattern, placeholder, place)\n",
    "\n",
    "    # Step 3: Replace separators with commas\n",
    "    place = re.sub(r'\\s+and\\s+|\\s*&\\s*', ',', place)\n",
    "\n",
    "    # Step 4: Split and strip\n",
    "    places = [p.strip() for p in place.split(',') if p.strip()]\n",
    "\n",
    "    # Step 5: Restore compound country names and title-case everything\n",
    "    cleaned_places = [reverse_map.get(p, p).title() for p in places]\n",
    "\n",
    "    return cleaned_places\n",
    "\n",
    "# Apply the function\n",
    "df_combined['place_list'] = df_combined['place_of_visit'].apply(clean_and_split_places)\n",
    "\n",
    "# Explode the lists into rows\n",
    "exploded_df = df_combined.explode('place_list')\n",
    "\n",
    "\n"
   ]
  },
  {
   "cell_type": "code",
   "execution_count": 93,
   "id": "9d3dad5d",
   "metadata": {},
   "outputs": [
    {
     "data": {
      "text/html": [
       "<div>\n",
       "<style scoped>\n",
       "    .dataframe tbody tr th:only-of-type {\n",
       "        vertical-align: middle;\n",
       "    }\n",
       "\n",
       "    .dataframe tbody tr th {\n",
       "        vertical-align: top;\n",
       "    }\n",
       "\n",
       "    .dataframe thead th {\n",
       "        text-align: right;\n",
       "    }\n",
       "</style>\n",
       "<table border=\"1\" class=\"dataframe\">\n",
       "  <thead>\n",
       "    <tr style=\"text-align: right;\">\n",
       "      <th></th>\n",
       "      <th>sno</th>\n",
       "      <th>place_of_visit</th>\n",
       "      <th>period_of_visit</th>\n",
       "      <th>expenses</th>\n",
       "      <th>place_list</th>\n",
       "    </tr>\n",
       "  </thead>\n",
       "  <tbody>\n",
       "    <tr>\n",
       "      <th>0</th>\n",
       "      <td>1</td>\n",
       "      <td>United Kingdom &amp; Maldives</td>\n",
       "      <td>23 July – 26 July, 2025</td>\n",
       "      <td>NaN</td>\n",
       "      <td>United Kingdom</td>\n",
       "    </tr>\n",
       "    <tr>\n",
       "      <th>0</th>\n",
       "      <td>1</td>\n",
       "      <td>United Kingdom &amp; Maldives</td>\n",
       "      <td>23 July – 26 July, 2025</td>\n",
       "      <td>NaN</td>\n",
       "      <td>Maldives</td>\n",
       "    </tr>\n",
       "    <tr>\n",
       "      <th>1</th>\n",
       "      <td>2</td>\n",
       "      <td>Ghana, Trinidad &amp; Tobago, Argentina, Brazil &amp; ...</td>\n",
       "      <td>02 July – 09 July, 2025</td>\n",
       "      <td>NaN</td>\n",
       "      <td>Ghana</td>\n",
       "    </tr>\n",
       "    <tr>\n",
       "      <th>1</th>\n",
       "      <td>2</td>\n",
       "      <td>Ghana, Trinidad &amp; Tobago, Argentina, Brazil &amp; ...</td>\n",
       "      <td>02 July – 09 July, 2025</td>\n",
       "      <td>NaN</td>\n",
       "      <td>Trinidad &amp; Tobago</td>\n",
       "    </tr>\n",
       "    <tr>\n",
       "      <th>1</th>\n",
       "      <td>2</td>\n",
       "      <td>Ghana, Trinidad &amp; Tobago, Argentina, Brazil &amp; ...</td>\n",
       "      <td>02 July – 09 July, 2025</td>\n",
       "      <td>NaN</td>\n",
       "      <td>Argentina</td>\n",
       "    </tr>\n",
       "    <tr>\n",
       "      <th>...</th>\n",
       "      <td>...</td>\n",
       "      <td>...</td>\n",
       "      <td>...</td>\n",
       "      <td>...</td>\n",
       "      <td>...</td>\n",
       "    </tr>\n",
       "    <tr>\n",
       "      <th>87</th>\n",
       "      <td>54</td>\n",
       "      <td>USA</td>\n",
       "      <td>25 Sept – 1 Oct, 2014</td>\n",
       "      <td>19,04,60,000</td>\n",
       "      <td>Usa</td>\n",
       "    </tr>\n",
       "    <tr>\n",
       "      <th>88</th>\n",
       "      <td>55</td>\n",
       "      <td>Japan</td>\n",
       "      <td>30 Aug – 3 Sept, 2014</td>\n",
       "      <td>13,47,58,000</td>\n",
       "      <td>Japan</td>\n",
       "    </tr>\n",
       "    <tr>\n",
       "      <th>89</th>\n",
       "      <td>56</td>\n",
       "      <td>Nepal</td>\n",
       "      <td>3 Aug – 5 Aug, 2014</td>\n",
       "      <td>IAF BBJ Aircraft</td>\n",
       "      <td>Nepal</td>\n",
       "    </tr>\n",
       "    <tr>\n",
       "      <th>90</th>\n",
       "      <td>57</td>\n",
       "      <td>Brazil</td>\n",
       "      <td>13 July – 17 July, 2014</td>\n",
       "      <td>20,35,48,000</td>\n",
       "      <td>Brazil</td>\n",
       "    </tr>\n",
       "    <tr>\n",
       "      <th>91</th>\n",
       "      <td>58</td>\n",
       "      <td>Bhutan</td>\n",
       "      <td>15 June – 16 June, 2014</td>\n",
       "      <td>2,45,27,465</td>\n",
       "      <td>Bhutan</td>\n",
       "    </tr>\n",
       "  </tbody>\n",
       "</table>\n",
       "<p>162 rows × 5 columns</p>\n",
       "</div>"
      ],
      "text/plain": [
       "   sno                                     place_of_visit  \\\n",
       "0    1                          United Kingdom & Maldives   \n",
       "0    1                          United Kingdom & Maldives   \n",
       "1    2  Ghana, Trinidad & Tobago, Argentina, Brazil & ...   \n",
       "1    2  Ghana, Trinidad & Tobago, Argentina, Brazil & ...   \n",
       "1    2  Ghana, Trinidad & Tobago, Argentina, Brazil & ...   \n",
       "..  ..                                                ...   \n",
       "87  54                                                USA   \n",
       "88  55                                              Japan   \n",
       "89  56                                              Nepal   \n",
       "90  57                                             Brazil   \n",
       "91  58                                             Bhutan   \n",
       "\n",
       "            period_of_visit          expenses         place_list  \n",
       "0   23 July – 26 July, 2025               NaN     United Kingdom  \n",
       "0   23 July – 26 July, 2025               NaN           Maldives  \n",
       "1   02 July – 09 July, 2025               NaN              Ghana  \n",
       "1   02 July – 09 July, 2025               NaN  Trinidad & Tobago  \n",
       "1   02 July – 09 July, 2025               NaN          Argentina  \n",
       "..                      ...               ...                ...  \n",
       "87    25 Sept – 1 Oct, 2014      19,04,60,000                Usa  \n",
       "88    30 Aug – 3 Sept, 2014      13,47,58,000              Japan  \n",
       "89      3 Aug – 5 Aug, 2014  IAF BBJ Aircraft              Nepal  \n",
       "90  13 July – 17 July, 2014      20,35,48,000             Brazil  \n",
       "91  15 June – 16 June, 2014       2,45,27,465             Bhutan  \n",
       "\n",
       "[162 rows x 5 columns]"
      ]
     },
     "execution_count": 93,
     "metadata": {},
     "output_type": "execute_result"
    }
   ],
   "source": [
    "exploded_df"
   ]
  },
  {
   "cell_type": "code",
   "execution_count": 94,
   "id": "83947f4c",
   "metadata": {},
   "outputs": [],
   "source": [
    "# Drop empty or null entries\n",
    "exploded_df = exploded_df[exploded_df['place_list'].notna() & (exploded_df['place_list'] != '')]\n",
    "\n",
    "# Define a mapping of non-standard to standardized country names\n",
    "country_rename_map = {\n",
    "    'Usa': 'United States',\n",
    "    'United States Of America (Usa)': 'United States',\n",
    "    'Uae': 'United Arab Emirates',\n",
    "    'United Arab Emirates (Uae)': 'United Arab Emirates',\n",
    "    'Uk': 'United Kingdom',\n",
    "    'Dubai': 'United Arab Emirates',\n",
    "    'Samarkand': 'Uzbekistan',\n",
    "}\n",
    "\n",
    "# Apply the renaming to the 'place_list' column\n",
    "exploded_df['place_list_standardized'] = exploded_df['place_list'].replace(country_rename_map)\n",
    "\n"
   ]
  },
  {
   "cell_type": "code",
   "execution_count": 95,
   "id": "ccd8f5fd",
   "metadata": {},
   "outputs": [
    {
     "data": {
      "text/plain": [
       "array(['United Kingdom', 'Maldives', 'Ghana', 'Trinidad & Tobago',\n",
       "       'Argentina', 'Brazil', 'Namibia', 'Cyprus', 'Canada', 'Croatia',\n",
       "       'Saudi Arabia', 'Thailand', 'Sri Lanka', 'Mauritius', 'France',\n",
       "       'United States', 'Kuwait', 'Nigeria', 'Guyana', 'Russia', 'Laos',\n",
       "       'Brunei', 'Singapore', 'Poland', 'Ukraine', 'Austria', 'Italy',\n",
       "       'Bhutan', 'United Arab Emirates', 'Qatar', 'Indonesia',\n",
       "       'South Africa', 'Greece', 'Egypt', 'Japan', 'Papua New Guinea',\n",
       "       'Australia', 'Uzbekistan', 'Germany', 'Nepal', 'Denmark',\n",
       "       'Bangladesh', 'Kyrgyzstan', 'South Korea', 'Rwanda', 'Uganda',\n",
       "       'China', 'Malaysia', 'Sweden', 'Jordan', 'Palestine', 'Oman',\n",
       "       'Switzerland', 'Philippines', 'Myanmar', 'Israel', 'Portugal',\n",
       "       'Netherlands', 'Kazakhstan', 'Spain', 'Vietnam', 'Mozambique',\n",
       "       'Tanzania', 'Kenya', 'Afghanistan', 'Mexico', 'Iran', 'Belgium',\n",
       "       'Pakistan', 'Turkey', 'Ireland', 'Turkmenistan', 'Tajikistan',\n",
       "       'Mongolia', 'Seychelles', 'Fiji'], dtype=object)"
      ]
     },
     "execution_count": 95,
     "metadata": {},
     "output_type": "execute_result"
    }
   ],
   "source": [
    "exploded_df.place_list_standardized.unique()\n"
   ]
  },
  {
   "cell_type": "code",
   "execution_count": null,
   "id": "d259b9b0",
   "metadata": {},
   "outputs": [],
   "source": [
    "# exploded_df.to_csv('exploded_places.csv', index=False)"
   ]
  },
  {
   "cell_type": "code",
   "execution_count": 96,
   "id": "cb223950",
   "metadata": {},
   "outputs": [
    {
     "name": "stdout",
     "output_type": "stream",
     "text": [
      "                country  count_visit\n",
      "0         United States           10\n",
      "1                 Japan            7\n",
      "2                Russia            7\n",
      "3               Germany            6\n",
      "4  United Arab Emirates            6\n",
      "5                France            6\n",
      "6                 China            5\n",
      "7                 Nepal            5\n",
      "8             Singapore            5\n",
      "9             Sri Lanka            4\n"
     ]
    }
   ],
   "source": [
    "# Count frequency\n",
    "place_counts = exploded_df['place_list_standardized'].value_counts()\n",
    "\n",
    "# Convert to DataFrame\n",
    "df_country_visits = place_counts.reset_index()\n",
    "\n",
    "# Rename columns\n",
    "df_country_visits.columns = ['country', 'count_visit']\n",
    "\n",
    "# Show top 10\n",
    "print(df_country_visits.head(10))\n"
   ]
  },
  {
   "cell_type": "code",
   "execution_count": 98,
   "id": "31a1e492",
   "metadata": {},
   "outputs": [],
   "source": [
    "df_country_visits.to_csv('country_visit_counts.csv', index=False)"
   ]
  }
 ],
 "metadata": {
  "kernelspec": {
   "display_name": "Python 3",
   "language": "python",
   "name": "python3"
  },
  "language_info": {
   "codemirror_mode": {
    "name": "ipython",
    "version": 3
   },
   "file_extension": ".py",
   "mimetype": "text/x-python",
   "name": "python",
   "nbconvert_exporter": "python",
   "pygments_lexer": "ipython3",
   "version": "3.13.2"
  }
 },
 "nbformat": 4,
 "nbformat_minor": 5
}
